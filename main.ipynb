{
 "cells": [
  {
   "cell_type": "markdown",
   "id": "21f16cd8",
   "metadata": {},
   "source": [
    "# Introduction\n",
    "The present lab session introduces the logistic regressor method. This classification method is based on the sigmoid or logistic function. Thus, the student will first learn how the logistic function works by creating decision boundaries. Then, the *Iris data set* is explored to understand how information is placed and passed to train a classifier. Next, the student will develop a basic classifier based on one parameter (**petal width**). \n",
    "\n",
    "Next, a multiple features classifier is implemented, and finally, upgraded into a multi-class method is implemented. \n",
    "\n",
    "# Objectives\n",
    "## Main objective\n",
    "To understand the basic principle of a classifier algorithm based on the logistic regressor method. Then, understand how to use and train the logistic regressor implemented `Sklearn.`\n",
    "\n",
    "## Specific objectives\n",
    "- Understand the logistic function and how it can be used to classify\n",
    "- Understand how to use the `Sklearn` module to implement the logistic regressor\n",
    "- Implement a logistic regressor using one feature\n",
    "- Implement a logistic regressor using two features\n",
    "- Implement a logistic regressor using two features in multi-class problems"
   ]
  },
  {
   "cell_type": "code",
   "execution_count": null,
   "id": "d5398fa1",
   "metadata": {},
   "outputs": [],
   "source": []
  }
 ],
 "metadata": {
  "kernelspec": {
   "display_name": "Python 3 (ipykernel)",
   "language": "python",
   "name": "python3"
  },
  "language_info": {
   "codemirror_mode": {
    "name": "ipython",
    "version": 3
   },
   "file_extension": ".py",
   "mimetype": "text/x-python",
   "name": "python",
   "nbconvert_exporter": "python",
   "pygments_lexer": "ipython3",
   "version": "3.8.10"
  }
 },
 "nbformat": 4,
 "nbformat_minor": 5
}
